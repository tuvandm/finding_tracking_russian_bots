{
 "cells": [
  {
   "cell_type": "code",
   "execution_count": null,
   "metadata": {},
   "outputs": [],
   "source": [
    "import networkx as nx\n",
    "from networkx.algorithms import approximation as ap\n",
    "\n",
    "import pandas as pd\n",
    "import matplotlib.pyplot as plt\n",
    "import numpy as np\n",
    "np.set_printoptions(suppress=True)"
   ]
  },
  {
   "cell_type": "code",
   "execution_count": null,
   "metadata": {},
   "outputs": [],
   "source": [
    "rt_1st = pd.read_csv(\"RT_network_1st_degree.csv\")\n",
    "rt_1st.drop(\"Unnamed: 0\", inplace=True, axis=1)\n",
    "\n",
    "rt_edges = pd.read_csv(\"full_RT_edge_list.csv\")\n"
   ]
  },
  {
   "cell_type": "code",
   "execution_count": null,
   "metadata": {},
   "outputs": [],
   "source": [
    "user_timeline = pd.read_json(\"user_timeline_RT_com.jsonl\", lines=True)"
   ]
  },
  {
   "cell_type": "code",
   "execution_count": null,
   "metadata": {},
   "outputs": [],
   "source": [
    "user_timeline.describe()"
   ]
  },
  {
   "cell_type": "code",
   "execution_count": null,
   "metadata": {},
   "outputs": [],
   "source": [
    "rt_edges\n",
    "#rt_1st\n",
    "\n",
    "rt_edges[rt_edges[\"source\"]==\"57Frog\"]"
   ]
  },
  {
   "cell_type": "code",
   "execution_count": null,
   "metadata": {},
   "outputs": [],
   "source": [
    "basic_edges = []\n",
    "\n",
    "def tuple_convert(row):\n",
    "    holder_tuple = (row['target'], row['source'])\n",
    "    basic_edges.append(holder_tuple)\n",
    "    return None \n",
    "    \n",
    "    \n",
    "rt_edges.apply(lambda row: tuple_convert(row), axis=1)\n",
    "\n",
    "\n",
    "    "
   ]
  },
  {
   "cell_type": "code",
   "execution_count": null,
   "metadata": {},
   "outputs": [],
   "source": [
    "G = nx.Graph()\n",
    "G.add_nodes_from(list(rt_1st['user_name']))\n",
    "G.add_edges_from(basic_edges)\n"
   ]
  },
  {
   "cell_type": "code",
   "execution_count": null,
   "metadata": {},
   "outputs": [],
   "source": [
    "\"\"\"\n",
    "nx.draw(G, with_labels=True, font_weight='bold')\n",
    "plt.subplot(122)\n",
    "\"\"\"\n",
    "\n",
    "#biggest_c = ap.max_clique(G)\n",
    "\n",
    "d = nx.density(G)\n",
    "print(\"Network density is:\")\n",
    "output = f\"{d:.9f}\" #formating d so it won't be in sci. notation\n",
    "print(output)"
   ]
  },
  {
   "cell_type": "code",
   "execution_count": null,
   "metadata": {},
   "outputs": [],
   "source": [
    "degree_histo = nx.degree_histogram(G)\n",
    "\n",
    "\n",
    "print(len(degree_histo))\n",
    "#print(degree_histo)"
   ]
  },
  {
   "cell_type": "code",
   "execution_count": null,
   "metadata": {},
   "outputs": [],
   "source": [
    "top=20\n",
    "print(degree_histo[top+1])\n",
    "\n",
    "range_wanted = range(0,top+1)\n",
    "range_hist = (0,top+1)\n",
    "histo_nums = [degree_histo[num] for num in range_wanted]\n",
    "\n",
    "\n",
    "print(histo_nums)\n",
    "\n",
    "\n",
    "#plt.hist(x=histo_nums, range=range_hist, align='mid', rwidth=.8)\n",
    "plt.bar(x=range_wanted, \n",
    "        height=histo_nums)\n",
    "\n",
    "\n",
    "plt.xlabel(xlabel=\"Number of connections\")\n",
    "plt.ylabel(ylabel=\"Frequency\")\n",
    "plt.xticks(ticks=range_wanted)\n",
    "plt.ylim(0, max(histo_nums))\n",
    "\n",
    "\n",
    "plt.show()"
   ]
  },
  {
   "cell_type": "code",
   "execution_count": null,
   "metadata": {},
   "outputs": [],
   "source": [
    "\n",
    "top_degree = []\n",
    "degrees_list = []\n",
    "\n",
    "   \n",
    "        \n",
    "\n",
    "def node_check(node, top_wanted): #for itterating over nodes in get_most_connected()\n",
    "    node_list = [neigh for neigh in nx.all_neighbors(G, node)] #returns a list of nodes connected to the node.\n",
    "    degrees = len(node_list)  #getting length of that list\n",
    "    \n",
    "    if len(top_degree)<top_wanted:\n",
    "        top_degree.append((node, degrees))\n",
    "        degrees_list.append(degrees)\n",
    "    elif degrees > min(degrees_list):\n",
    "        top_degree.pop(0)\n",
    "        top_degree.append((node, degrees))\n",
    "        top_degree.sort(key = lambda x: x[1])\n",
    "        \n",
    "        degrees_list.pop(0)\n",
    "        degrees_list.append(degrees)\n",
    "        degrees_list.sort()\n",
    "        \n",
    "\n",
    "def get_most_connected(G, top_wanted): #returns list of tuples: usernames and number of connections. returns top X\n",
    "    global top_degree\n",
    "    top_degree = []\n",
    "    global degrees_list\n",
    "    degrees_list = []\n",
    "    for node in nx.nodes(G):\n",
    "        node_check(node, top_wanted)\n",
    "        \n",
    "    return top_degree\n",
    "\n",
    "\n",
    "def get_top_n_graph(g, n=50): #get's n number of nodes that are the most connected nodes, returns a graph (not drawn)\n",
    "    top_n = get_most_connected(g, n)\n",
    "    top_n_nodes = [tup[0] for tup in top_n]\n",
    "    top_n_G = nx.subgraph(g, nbunch=top_n_nodes)\n",
    "    return top_n_G\n",
    "\n",
    "def get_top_n_plus_neighbors_graph(g, n=200):\n",
    "    top_n = get_most_connected(g, n)\n",
    "    top_n_nodes = [tup[0] for tup in top_n]\n",
    "    neighbor_list = []\n",
    "    \n",
    "    for node in top_n_nodes:\n",
    "        for neigh in nx.all_neighbors(g, node):\n",
    "            neighbor_list.append(neigh)\n",
    "    \n",
    "    everyone = top_n_nodes + neighbor_list\n",
    "    everyone_set = set(everyone)\n",
    "    top_n_plus_neighbors_g = nx.subgraph(g, nbunch=everyone_set)\n",
    "    return top_n_plus_neighbors_g\n",
    "    \n",
    "\n",
    "\n",
    "def top_n_density(G, top_wanted):\n",
    "    top_n_list = get_most_connected(G, top_wanted)\n",
    "    top_n_nodes = [tup[0] for tup in top_n_list]\n",
    "    top_n_G = nx.subgraph(G, nbunch=top_n_nodes)\n",
    "    d_top_n = nx.density(top_n_G)\n",
    "    output = f\"{d_top_n:.20f}\" \n",
    "    output = float(output)\n",
    "    \n",
    "    return output\n",
    "\n",
    "\n",
    "def make_top_n_df(g, n=10):\n",
    "    top_n = get_most_connected(g, n)\n",
    "    top_n_nodes = [tup[0] for tup in top_n]\n",
    "    top_n_degrees = [tup[1] for tup in top_n]\n",
    "    \n",
    "    \n",
    "    neighbor_list = []\n",
    "    for node in top_n_nodes:\n",
    "        for neigh in nx.all_neighbors(g, node):\n",
    "            neighbor_list.append(neigh)\n",
    "    neighbor_set = set(neighbor_list)\n",
    "    neighbor_degrees = []\n",
    "    for node in neighbor_set:\n",
    "        node_list2 = [neigh for neigh in nx.all_neighbors(G, node)] #returns a list of nodes connected to the node.\n",
    "        degrees2 = len(node_list2)  #getting length of that list\n",
    "        neighbor_degrees.append(degrees2)\n",
    "        \n",
    "        \n",
    "    all_nodes = top_n_nodes + list(neighbor_set)\n",
    "    all_degrees = top_n_degrees + neighbor_degrees\n",
    "    \n",
    "    \n",
    "    \n",
    "    \n",
    "    \n",
    "    top_n_df = pd.DataFrame(list(zip(all_nodes, all_degrees)), columns =['node', 'degrees'])\n",
    "    \n",
    "    top_n_df['bucket'] = 0\n",
    "    top_n_df.loc[top_n_df[\"node\"].isin(list(neighbor_set)), 'bucket'] = list(pd.cut(top_n_df.loc[top_n_df[\"node\"].isin(list(neighbor_set)), \"degrees\"], \n",
    "                                                                                    bins=4, \n",
    "                                                                                    labels=[1,2,3,4]))\n",
    "    \n",
    "    top_n_df['label'] = ' '\n",
    "    top_n_df.loc[top_n_df[\"node\"].isin(top_n_nodes), \"label\"] = \"bot?\"\n",
    "    top_n_df.loc[top_n_df[\"bucket\"]==4, \"label\"] = top_n_df[\"node\"] #label for most connect non-bot nodes\n",
    "    top_n_df.loc[top_n_df[\"bucket\"]==3, \"label\"] = top_n_df[\"node\"] #label for 2nd most connect non-bot nodes\n",
    "    \n",
    "    \n",
    "    #map_dict = {1:100, 2:200, 3:300, 4:4000, 5:10000}\n",
    "    top_n_df['size'] = 1\n",
    "    top_n_df.loc[top_n_df[\"bucket\"]==4, \"size\"] = 15000\n",
    "    top_n_df.loc[top_n_df[\"bucket\"]==3, \"size\"] = 7000\n",
    "    top_n_df.loc[top_n_df[\"bucket\"]==2, \"size\"] = 300\n",
    "    top_n_df.loc[top_n_df[\"bucket\"]==1, \"size\"] = 100\n",
    "    top_n_df.loc[top_n_df[\"bucket\"]==0, \"size\"] = 4000 #bucket 0 should be bots\n",
    "    \n",
    "    \n",
    "    \n",
    "    return top_n_df\n",
    "    \n",
    "def draw_from_df(g, df, f_size=(50,50)):\n",
    "    label_dic = dict(zip(list(df[\"node\"]), list(df[\"label\"])))\n",
    "    \n",
    "    df_subgraph = nx.subgraph(g, nbunch=list(df[\"node\"])) #important to only call draw on subgraph!!!!\n",
    "    \n",
    "    plt.figure(figsize=f_size) #40,40\n",
    "    nx.draw_spring(df_subgraph, \n",
    "                   with_labels=True,\n",
    "                   labels = label_dic,\n",
    "                   font_size = 20,\n",
    "                   font_weight='bold', \n",
    "                   nodelist=list(df[\"node\"]),\n",
    "                   node_color=list(df[\"bucket\"]),\n",
    "                   node_size=list(df[\"size\"]),\n",
    "                   cmap=\"prism_r\",#\"inferno\"\n",
    "                   width=.5)\n",
    "    plt.show()\n",
    "    \n",
    "    "
   ]
  },
  {
   "cell_type": "code",
   "execution_count": null,
   "metadata": {},
   "outputs": [],
   "source": [
    "top10_df = make_top_n_df(G, n=15)\n",
    "top10_df"
   ]
  },
  {
   "cell_type": "code",
   "execution_count": null,
   "metadata": {},
   "outputs": [],
   "source": [
    "draw_from_df(G, top10_df, f_size=(50,50))"
   ]
  },
  {
   "cell_type": "code",
   "execution_count": null,
   "metadata": {},
   "outputs": [],
   "source": [
    "#nodelist=[found_node] node_color=\"r\" node_size= (default is 300)\n",
    "#top500_G\n",
    "\n",
    "def range_of_degrees(g, list_not_range=False):\n",
    "    the_degrees = []\n",
    "\n",
    "    for node in nx.nodes(g):\n",
    "        node_list = []\n",
    "        node_list = [neigh for neigh in nx.all_neighbors(G, node)] #returns a list of nodes connected to the node.\n",
    "        degrees = len(node_list)\n",
    "        the_degrees.append(degrees)\n",
    "        \n",
    "    if list_not_range==False:\n",
    "        return max(the_degrees), min(the_degrees)\n",
    "    if list_not_range==True:\n",
    "        return the_degrees\n",
    "\n",
    "\n",
    "def get_nodes_and_bucket_lists(g, buckets_wanted=5):\n",
    "    nodes = [node for node in nx.nodes(g)]\n",
    "    \n",
    "    the_degrees = []\n",
    "    for node in nodes:\n",
    "        node_list = []\n",
    "        node_list = [neigh for neigh in nx.all_neighbors(g, node)] #returns a list of nodes connected to the node.\n",
    "        degrees = len(node_list)\n",
    "        the_degrees.append(degrees)\n",
    "    \n",
    "    bucket_labeled = list(pd.cut(the_degrees, bins=buckets_wanted, labels=[num for num in range(1,buckets_wanted+1)]))\n",
    "    #print(the_degrees)\n",
    "    return nodes, bucket_labeled\n",
    "\n",
    "def draw_network(g, buckets_needed=5, f_size=(100,100)):\n",
    "    nodes = get_nodes_and_bucket_lists(g, buckets_wanted=buckets_needed)[0]\n",
    "    bucket_labels = get_nodes_and_bucket_lists(g, buckets_wanted=buckets_needed)[1]\n",
    "    \n",
    "    #print(bucket_labels)\n",
    "    \n",
    "    #map_dict = {1:10000, 2:4000, 3:300, 4:100, 5:50}\n",
    "    map_dict = {1:100, 2:200, 3:300, 4:4000, 5:10000} #as label gets bigger, number of connections/degrees increases\n",
    "    sizes = list(map(map_dict.get, bucket_labels))\n",
    "    #sizes = [l*100 for l in bucket_labels]\n",
    "    \n",
    "    \n",
    "    \n",
    "    plt.figure(figsize=f_size) #40,40\n",
    "    nx.draw_spring(g, \n",
    "                   with_labels=True, \n",
    "                   font_weight='bold', \n",
    "                   nodelist=nodes,\n",
    "                   node_color=bucket_labels,\n",
    "                   node_size=sizes,\n",
    "                   cmap=\"prism_r\",#\"inferno\"\n",
    "                   width=.5)\n",
    "    plt.show()"
   ]
  },
  {
   "cell_type": "code",
   "execution_count": null,
   "metadata": {},
   "outputs": [],
   "source": [
    "top50 = get_most_connected(G, 50)\n",
    "print(len(top50))\n",
    "print(top50)"
   ]
  },
  {
   "cell_type": "code",
   "execution_count": null,
   "metadata": {},
   "outputs": [],
   "source": [
    "top_50_nodes = [tup[0] for tup in top50]\n",
    "top50_G = nx.subgraph(G, nbunch=top_50_nodes)\n",
    "\n",
    "\n",
    "\n",
    "d50 = nx.density(top50_G)\n",
    "print(\"Network density is:\")\n",
    "output = f\"{d50:.20f}\" #formating d so it won't be in sci. notation\n",
    "print(output)"
   ]
  },
  {
   "cell_type": "code",
   "execution_count": null,
   "metadata": {},
   "outputs": [],
   "source": [
    "top_n_density(G, 500) #0.000022244 <-- this commented number is the density of the network as a whole"
   ]
  },
  {
   "cell_type": "code",
   "execution_count": null,
   "metadata": {},
   "outputs": [],
   "source": [
    "density_y = [top_n_density(G, num) for num in range(10,2001, 50)]\n",
    "top_x = [num for num in range(10,2001, 50)]"
   ]
  },
  {
   "cell_type": "code",
   "execution_count": null,
   "metadata": {},
   "outputs": [],
   "source": [
    "plt.figure(2,figsize=(20,10)) \n",
    "plt.plot(top_x, density_y)\n",
    "plt.xlabel(xlabel=\"Number of top connected nodes in graph\")\n",
    "plt.ylabel(ylabel='Network density')\n",
    "plt.show()"
   ]
  },
  {
   "cell_type": "code",
   "execution_count": null,
   "metadata": {},
   "outputs": [],
   "source": [
    "top500 = get_most_connected(G, 500)\n",
    "top_500_nodes = [tup[0] for tup in top500]\n",
    "top500_G = nx.subgraph(G, nbunch=top_500_nodes)"
   ]
  },
  {
   "cell_type": "code",
   "execution_count": null,
   "metadata": {},
   "outputs": [],
   "source": [
    "\"\"\"\n",
    "COLOR MAP (cmap) OPTIONS:\n",
    "\n",
    "Possible values are: Accent, Accent_r, Blues, Blues_r, BrBG, BrBG_r, BuGn, BuGn_r, BuPu, BuPu_r, \n",
    "CMRmap, CMRmap_r, Dark2, Dark2_r, GnBu, GnBu_r, Greens, Greens_r, Greys, Greys_r, OrRd, OrRd_r, Oranges, Oranges_r, \n",
    "PRGn, PRGn_r, Paired, Paired_r, Pastel1, Pastel1_r, Pastel2, Pastel2_r, PiYG, PiYG_r, PuBu, PuBuGn, PuBuGn_r, \n",
    "PuBu_r, PuOr, PuOr_r, PuRd, PuRd_r, Purples, Purples_r, RdBu, RdBu_r, RdGy, RdGy_r, RdPu, RdPu_r, RdYlBu, \n",
    "RdYlBu_r, RdYlGn, RdYlGn_r, Reds, Reds_r, Set1, Set1_r, Set2, Set2_r, Set3, Set3_r, Spectral, Spectral_r, \n",
    "Wistia, Wistia_r, YlGn, YlGnBu, YlGnBu_r, YlGn_r, YlOrBr, YlOrBr_r, YlOrRd, YlOrRd_r, afmhot, afmhot_r, autumn, \n",
    "autumn_r, binary, binary_r, bone, bone_r, brg, brg_r, bwr, bwr_r, cividis, cividis_r, cool, cool_r, coolwarm, \n",
    "coolwarm_r, copper, copper_r, cubehelix, cubehelix_r, flag, flag_r, gist_earth, gist_earth_r, gist_gray, \n",
    "gist_gray_r, gist_heat, gist_heat_r, gist_ncar, gist_ncar_r, gist_rainbow, gist_rainbow_r, gist_stern, \n",
    "gist_stern_r, gist_yarg, gist_yarg_r, gnuplot, gnuplot2, gnuplot2_r, gnuplot_r, gray, gray_r, hot, hot_r, \n",
    "hsv, hsv_r, inferno, inferno_r, jet, jet_r, magma, magma_r, nipy_spectral, nipy_spectral_r, ocean, ocean_r, \n",
    "pink, pink_r, plasma, plasma_r, prism, prism_r, rainbow, rainbow_r, seismic, seismic_r, spring, spring_r, \n",
    "summer, summer_r, tab10, tab10_r, tab20, tab20_r, tab20b, tab20b_r, tab20c, tab20c_r, terrain, terrain_r, \n",
    "twilight, twilight_r, twilight_shifted, twilight_shifted_r, viridis, viridis_r, winter, winter_r\n",
    "\n",
    "\n",
    "\"\"\""
   ]
  },
  {
   "cell_type": "code",
   "execution_count": null,
   "metadata": {},
   "outputs": [],
   "source": []
  },
  {
   "cell_type": "code",
   "execution_count": null,
   "metadata": {},
   "outputs": [],
   "source": [
    "top200_plus_neighbors = get_top_n_plus_neighbors_graph(G, n=10)\n",
    "draw_network(top200_plus_neighbors, 5, (50,50))"
   ]
  },
  {
   "cell_type": "code",
   "execution_count": null,
   "metadata": {},
   "outputs": [],
   "source": [
    "top50 = get_top_n_graph(G, n=210)\n",
    "draw_network(top50, 5, (50,50))"
   ]
  },
  {
   "cell_type": "code",
   "execution_count": null,
   "metadata": {},
   "outputs": [],
   "source": [
    "top50 = get_top_n_graph(G, n=250)\n",
    "draw_network(top50, 5, (50,50))"
   ]
  },
  {
   "cell_type": "code",
   "execution_count": null,
   "metadata": {},
   "outputs": [],
   "source": [
    "draw_network(top500_G,buckets_needed=5)"
   ]
  },
  {
   "cell_type": "code",
   "execution_count": null,
   "metadata": {},
   "outputs": [],
   "source": [
    "test_bucket = get_nodes_and_bucket_lists(top500_G)"
   ]
  },
  {
   "cell_type": "code",
   "execution_count": null,
   "metadata": {},
   "outputs": [],
   "source": [
    "label_test = pd.cut(range_of_degrees(top500_G, list_not_range=True), bins=5, labels=[1,2,3,4,5])\n",
    "label_test"
   ]
  },
  {
   "cell_type": "code",
   "execution_count": null,
   "metadata": {},
   "outputs": [],
   "source": [
    "max_clique_top500 = ap.max_clique(top500_G)"
   ]
  },
  {
   "cell_type": "code",
   "execution_count": null,
   "metadata": {},
   "outputs": [],
   "source": [
    "max_clique_top500"
   ]
  },
  {
   "cell_type": "code",
   "execution_count": null,
   "metadata": {},
   "outputs": [],
   "source": [
    "cliques500 = nx.find_cliques(top500_G)"
   ]
  },
  {
   "cell_type": "code",
   "execution_count": null,
   "metadata": {},
   "outputs": [],
   "source": [
    "for clique in cliques500:\n",
    "    print(clique)"
   ]
  },
  {
   "cell_type": "code",
   "execution_count": null,
   "metadata": {},
   "outputs": [],
   "source": []
  }
 ],
 "metadata": {
  "kernelspec": {
   "display_name": "Python 3 (ipykernel)",
   "language": "python",
   "name": "python3"
  },
  "language_info": {
   "codemirror_mode": {
    "name": "ipython",
    "version": 3
   },
   "file_extension": ".py",
   "mimetype": "text/x-python",
   "name": "python",
   "nbconvert_exporter": "python",
   "pygments_lexer": "ipython3",
   "version": "3.9.7"
  }
 },
 "nbformat": 4,
 "nbformat_minor": 2
}
